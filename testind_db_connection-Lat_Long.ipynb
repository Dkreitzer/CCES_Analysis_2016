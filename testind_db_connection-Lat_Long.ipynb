{
 "cells": [
  {
   "cell_type": "code",
   "execution_count": null,
   "metadata": {},
   "outputs": [],
   "source": [
    "### Reflecting DB\n",
    "import sqlalchemy\n",
    "from sqlalchemy.ext.automap import automap_base\n",
    "from sqlalchemy.orm import Session\n",
    "from sqlalchemy import create_engine\n",
    "from sqlalchemy import Column, Integer, String, Float\n",
    "from sqlalchemy.ext.declarative import declarative_base\n",
    "from sqlalchemy import func\n",
    "\n"
   ]
  },
  {
   "cell_type": "code",
   "execution_count": null,
   "metadata": {},
   "outputs": [],
   "source": [
    "# Create the engine to connect to a sqlite file.\n",
    "# The file will not be created until the class, base, and metadata are executed\n",
    "\n",
    "engine = create_engine(\"sqlite:///db/CCES_Ver50.sqlite\")\n",
    "\n",
    "# Create a variable to manage session.queries later on...\n",
    "session = Session(engine)"
   ]
  },
  {
   "cell_type": "code",
   "execution_count": null,
   "metadata": {},
   "outputs": [],
   "source": [
    "Base = automap_base()\n",
    "\n",
    "engine = create_engine(\"sqlite:///db/CCES_Ver51.sqlite\")\n",
    "\n",
    "Base.prepare(engine, reflect=True)\n",
    "CCES_16 = Base.classes.CCES_16\n",
    "\n",
    "session = Session(engine)"
   ]
  },
  {
   "cell_type": "code",
   "execution_count": null,
   "metadata": {},
   "outputs": [],
   "source": [
    "# Declare a base using automap_base()\n",
    "Base = automap_base()\n",
    "Base"
   ]
  },
  {
   "cell_type": "code",
   "execution_count": null,
   "metadata": {},
   "outputs": [],
   "source": [
    "# Use the base class to reflect the database tables\n",
    "### Define our Survey Class for the sqlite db table\n",
    "Base = declarative_base()\n",
    "\n",
    "class Survey(Base):\n",
    "    __tablename__ = 'CCES_16'\n",
    "    index = Column(Integer, primary_key=True)\n",
    "    V101 = Column(Integer)\n",
    "    lookupzip = Column(Integer)\n",
    "    StateName = Column(String(255))\n",
    "    StateAbb = Column(String(255))\n",
    "    Latitude = Column(Float)\n",
    "    Longitude = Column(Float)\n",
    "    countyfips = Column(Float)\n",
    "    birthyr = Column(Integer)\n",
    "    gender = Column(String(255))\n",
    "    educ = Column(String(255))\n",
    "    GunBackgroundChecks_16 = Column(String(255))\n",
    "    ProhibitPublication_16 = Column(String(255))\n",
    "    BanAssultWeapons_16 = Column(String(255))\n",
    "    MakeCCPEasier_16 = Column(String(255))\n",
    "    AlwaysAllowChoice_16 = Column(String(255))\n",
    "    RapeIncestorHealth_16 = Column(String(255))\n",
    "    ProhibitMoreThan20Weeks_16 = Column(String(255))\n",
    "    Employersdeclinebenefits_16 = Column(String(255))\n",
    "    ProhibitFedFunds_16 = Column(String(255))\n",
    "    GayMarriage = Column(String(255))\n",
    "\n",
    "Base.prepare(engine, reflect=True)"
   ]
  },
  {
   "cell_type": "code",
   "execution_count": null,
   "metadata": {},
   "outputs": [],
   "source": [
    "# Print all of the classses mapped to the Base (this provides a list of the table names in the sqlite.db)\n",
    "Base.classes.keys()"
   ]
  },
  {
   "cell_type": "code",
   "execution_count": null,
   "metadata": {},
   "outputs": [],
   "source": [
    "# Assign the CCES_16 class to a variable called 'CCES'\n",
    "CCES = Base.classes.CCES_16"
   ]
  },
  {
   "cell_type": "code",
   "execution_count": null,
   "metadata": {},
   "outputs": [],
   "source": [
    "session = Session(engine)"
   ]
  },
  {
   "cell_type": "code",
   "execution_count": null,
   "metadata": {},
   "outputs": [],
   "source": [
    "#############################################\n",
    "# Dropdown Variables mapped to Sql...\n",
    "#############################################\n",
    "\n",
    "# Gun Questions\n",
    "GunBackgroundChecks_16 = CCES.GunBackgroundChecks_16\n",
    "ProhibitPublication_16 = CCES.ProhibitPublication_16\n",
    "BanAssultWeapons_16 = CCES.BanAssultWeapons_16\n",
    "MakeCCPEasier_16 = CCES.MakeCCPEasier_16\n",
    "\n",
    "# Abortion Questions\n",
    "AlwaysAllowChoice_16 = CCES.AlwaysAllowChoice_16\n",
    "RapeIncestorHealth_16 = CCES.RapeIncestorHealth_16\n",
    "ProhibitMoreThan20Weeks_16 = CCES.ProhibitMoreThan20Weeks_16\n",
    "Employersdeclinebenefits_16 = CCES.Employersdeclinebenefits_16\n",
    "ProhibitFedFunds_16 = CCES.ProhibitFedFunds_16\n",
    "\n",
    "# Gay Marriage Question\n",
    "GayMarriage = CCES.GayMarriage\n",
    "#############################################"
   ]
  },
  {
   "cell_type": "markdown",
   "metadata": {},
   "source": [
    "# Flask Route - metadata totals testing"
   ]
  },
  {
   "cell_type": "code",
   "execution_count": null,
   "metadata": {},
   "outputs": [],
   "source": [
    "#############################################\n",
    "# Creating metadata totals function for metadata totals flask route\n",
    "#############################################"
   ]
  },
  {
   "cell_type": "code",
   "execution_count": null,
   "metadata": {},
   "outputs": [],
   "source": [
    "#############################################\n",
    "# Function to return Totals - Total Support and Total Oppose for each issue\n",
    "#############################################\n",
    "def sample_metadatatotals(sample):\n",
    "    \"\"\"Return the totals for a given sample\"\"\"\n",
    "    TotalResults = []\n",
    "    \n",
    "    Approve = {}\n",
    "    Oppose = {}\n",
    "    \n",
    "    ApproveTemp = session.query(CCES).filter(sample == 'Support').count()\n",
    "    Approve['Approve'] = ApproveTemp\n",
    "    TotalResults.append(Approve)\n",
    "    \n",
    "    OpposeTemp = session.query(CCES).filter(sample == 'Oppose').count()\n",
    "    Oppose['Oppose'] = OpposeTemp\n",
    "    TotalResults.append(Oppose)\n",
    "\n",
    "    print(TotalResults)\n",
    "#     return jsonify(TotalResults)"
   ]
  },
  {
   "cell_type": "code",
   "execution_count": null,
   "metadata": {},
   "outputs": [],
   "source": [
    "#############################################\n",
    "# Metadatatotals Function Testing 1\n",
    "\n",
    "sample_metadatatotals(GayMarriage)"
   ]
  },
  {
   "cell_type": "code",
   "execution_count": null,
   "metadata": {},
   "outputs": [],
   "source": [
    "#############################################\n",
    "# Metadatatotals Function Testing 2\n",
    "\n",
    "sample_metadatatotals(CCES.GunBackgroundChecks_16)"
   ]
  },
  {
   "cell_type": "code",
   "execution_count": null,
   "metadata": {},
   "outputs": [],
   "source": [
    "#############################################\n",
    "# Metadatatotals Function - without function - direct query to verify results\n",
    "\n",
    "ApproveGay = session.query(CCES).filter(CCES.GayMarriage == 'Support').count()\n",
    "OpposeGay = session.query(CCES).filter(CCES.GayMarriage == 'Oppose').count()\n",
    "print(f'Sqlite query of votes supporting Gay Marrige: {ApproveGay}')\n",
    "print(f'Sqlite query of votes opposint Gay Marriage: {OpposeGay}')"
   ]
  },
  {
   "cell_type": "markdown",
   "metadata": {},
   "source": [
    "# Flask Route - Metadata States Groupby Results"
   ]
  },
  {
   "cell_type": "code",
   "execution_count": null,
   "metadata": {},
   "outputs": [],
   "source": [
    "#############################################\n",
    "# Metadata States Groupby Function\n",
    "#############################################\n",
    "\n",
    "def Metadata_States(sample):\n",
    "    \n",
    "    # Query to create two lists of tuples (state, number)\n",
    "    StatesFor = session.query(CCES.StateName, func.count(sample)).\\\n",
    "                filter(sample == 'Support').\\\n",
    "                group_by(CCES.StateName).all()\n",
    "    StatesNot = session.query(CCES.StateName, func.count(sample)).\\\n",
    "                filter(sample == 'Oppose').\\\n",
    "                group_by(CCES.StateName).all()\n",
    "\n",
    "    # List that will hold final dictionaries - to be jsonified\n",
    "    States_Results = []\n",
    "    \n",
    "    for i, j in zip(StatesFor, StatesNot):\n",
    "\n",
    "        tempfile = {}\n",
    "        tempfile['State'] = i[0]\n",
    "        tempfile['Support'] = i[1]\n",
    "        tempfile['Oppose'] = j[1]\n",
    "        if i[1] > j[1]:\n",
    "            tempoverall = 'Support'\n",
    "        else:\n",
    "            tempoverall = 'Oppose'\n",
    "        tempfile['Overall'] = tempoverall\n",
    "\n",
    "        States_Results.append(tempfile)\n",
    "\n",
    "    return States_Results\n",
    "    \n",
    "            "
   ]
  },
  {
   "cell_type": "code",
   "execution_count": null,
   "metadata": {},
   "outputs": [],
   "source": [
    "#############################################\n",
    "# Metadata States Function Testing 1\n",
    "\n",
    "Metadata_States(GunBackgroundChecks_16)"
   ]
  },
  {
   "cell_type": "code",
   "execution_count": null,
   "metadata": {},
   "outputs": [],
   "source": [
    "#############################################\n",
    "# Filter by state how many respondents were supportive of Gun Background Checks\n",
    "#############################################\n",
    "\n",
    "StatesFor = session.query(CCES.StateName, func.count(CCES.GunBackgroundChecks_16)).filter(CCES.GunBackgroundChecks_16 == 'Support').group_by(CCES.StateName).all()\n",
    "StatesNot = session.query(CCES.StateName, func.count(CCES.GunBackgroundChecks_16)).filter(CCES.GunBackgroundChecks_16 == 'Oppose').group_by(CCES.StateName).all()\n",
    "print(StatesFor[0:5])\n",
    "print(StatesNot[0:5])"
   ]
  },
  {
   "cell_type": "code",
   "execution_count": null,
   "metadata": {},
   "outputs": [],
   "source": [
    "#############################################\n",
    "# Groupby Function testing before building function\n",
    "#############################################\n",
    "StatesForAbortion = session.query(CCES.StateName, func.count(CCES.AlwaysAllowChoice_16)).filter(CCES.AlwaysAllowChoice_16 == 'Support').group_by(CCES.StateName).all()\n",
    "StatesNotAbortion = session.query(CCES.StateName, func.count(CCES.AlwaysAllowChoice_16)).filter(CCES.AlwaysAllowChoice_16 == 'Oppose').group_by(CCES.StateName).all()\n",
    "\n",
    "ThirdTry = []\n",
    "\n",
    "for i, j in zip(StatesForAbortion, StatesNotAbortion):\n",
    "\n",
    "    tempfile = {}\n",
    "    tempfile['State'] = i[0]\n",
    "    tempfile['Support'] = i[1]\n",
    "    tempfile['Oppose'] = j[1]\n",
    "    if i[1] > j[1]:\n",
    "        tempoverall = 'Support'\n",
    "    else:\n",
    "        tempoverall = 'Oppose'\n",
    "    tempfile['Overall'] = tempoverall\n",
    "        \n",
    "    ThirdTry.append(tempfile)\n",
    "ThirdTry"
   ]
  },
  {
   "cell_type": "code",
   "execution_count": null,
   "metadata": {},
   "outputs": [],
   "source": [
    "#############################################\n",
    "# Testing Groupby by specific state\n",
    "# Filter by state how many respondents were supportive of Gun Background Checks\n",
    "#############################################\n",
    "AlabamaTotalExample = session.query(CCES.StateName, CCES.GayMarriage).filter(CCES.StateName == 'California').count()\n",
    "AlabamaForExample = session.query(CCES.StateName, CCES.GayMarriage).filter(CCES.StateName == 'California').filter(CCES.GayMarriage == 'Support').count()\n",
    "AlabamaAgainstExample = session.query(CCES.StateName, CCES.GayMarriage).filter(CCES.StateName == 'California').filter(CCES.GayMarriage == 'Oppose').count()\n",
    "print(AlabamaTotalExample)\n",
    "print(AlabamaForExample)\n",
    "print(AlabamaAgainstExample)"
   ]
  }
 ],
 "metadata": {
  "kernelspec": {
   "display_name": "Python [conda env:PythonData]",
   "language": "python",
   "name": "conda-env-PythonData-py"
  },
  "language_info": {
   "codemirror_mode": {
    "name": "ipython",
    "version": 3
   },
   "file_extension": ".py",
   "mimetype": "text/x-python",
   "name": "python",
   "nbconvert_exporter": "python",
   "pygments_lexer": "ipython3",
   "version": "3.6.5"
  }
 },
 "nbformat": 4,
 "nbformat_minor": 2
}
