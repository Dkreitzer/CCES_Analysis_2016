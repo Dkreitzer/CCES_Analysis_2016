{
 "cells": [
  {
   "cell_type": "code",
   "execution_count": 11,
   "metadata": {},
   "outputs": [],
   "source": [
    "### Reflecting DB\n",
    "import sqlalchemy\n",
    "from sqlalchemy.ext.automap import automap_base\n",
    "from sqlalchemy.orm import Session\n",
    "from sqlalchemy import create_engine\n",
    "from sqlalchemy import Column, Integer, String, Float\n",
    "from sqlalchemy.ext.declarative import declarative_base\n",
    "from sqlalchemy import func\n",
    "import pandas as pd\n"
   ]
  },
  {
   "cell_type": "code",
   "execution_count": 2,
   "metadata": {},
   "outputs": [
    {
     "data": {
      "text/plain": [
       "['Cces_16']"
      ]
     },
     "execution_count": 2,
     "metadata": {},
     "output_type": "execute_result"
    }
   ],
   "source": [
    "# Create the engine to connect to a sqlite file.\n",
    "engine = create_engine(\"sqlite:///db/CCES_Ver61.sqlite\")\n",
    "\n",
    "# Declare a base using automap_base()\n",
    "Base = automap_base()\n",
    "\n",
    "\n",
    "Base.prepare(engine, reflect=True)\n",
    "\n",
    "# Print all of the classses mapped to the Base (this provides a list of the table names in the sqlite.db)\n",
    "Base.classes.keys()"
   ]
  },
  {
   "cell_type": "code",
   "execution_count": 3,
   "metadata": {},
   "outputs": [],
   "source": [
    "# Assign the CCES_16 class to a variable called 'CCES'\n",
    "CCES = Base.classes.Cces_16"
   ]
  },
  {
   "cell_type": "code",
   "execution_count": 4,
   "metadata": {},
   "outputs": [],
   "source": [
    "# Create a variable to manage session.queries later on...\n",
    "session = Session(engine)\n",
    "# session = Session(bind = engine)"
   ]
  },
  {
   "cell_type": "markdown",
   "metadata": {},
   "source": [
    "# pd.query testing"
   ]
  },
  {
   "cell_type": "code",
   "execution_count": 9,
   "metadata": {},
   "outputs": [
    {
     "name": "stdout",
     "output_type": "stream",
     "text": [
      "SELECT \"Cces_16\".index, \"Cces_16\".\"V101\", \"Cces_16\".lookupzip, \"Cces_16\".\"StateName\", \"Cces_16\".\"StateAbb\", \"Cces_16\".\"Latitude\", \"Cces_16\".\"Longitude\", \"Cces_16\".countyfips, \"Cces_16\".birthyr, \"Cces_16\".gender, \"Cces_16\".educ, \"Cces_16\".\"GunBackgroundChecks_16\", \"Cces_16\".\"ProhibitPublication_16\", \"Cces_16\".\"BanAssultWeapons_16\", \"Cces_16\".\"MakeCCPEasier_16\", \"Cces_16\".\"AlwaysAllowChoice_16\", \"Cces_16\".\"RapeIncestorHealth_16\", \"Cces_16\".\"ProhibitMoreThan20Weeks_16\", \"Cces_16\".\"Employersdeclinebenefits_16\", \"Cces_16\".\"ProhibitFedFunds_16\", \"Cces_16\".\"GayMarriage\" \n",
      "FROM \"Cces_16\"\n"
     ]
    }
   ],
   "source": [
    "stmt = session.query(CCES).statement\n",
    "print(stmt)"
   ]
  },
  {
   "cell_type": "code",
   "execution_count": 14,
   "metadata": {},
   "outputs": [
    {
     "data": {
      "text/html": [
       "<div>\n",
       "<style scoped>\n",
       "    .dataframe tbody tr th:only-of-type {\n",
       "        vertical-align: middle;\n",
       "    }\n",
       "\n",
       "    .dataframe tbody tr th {\n",
       "        vertical-align: top;\n",
       "    }\n",
       "\n",
       "    .dataframe thead th {\n",
       "        text-align: right;\n",
       "    }\n",
       "</style>\n",
       "<table border=\"1\" class=\"dataframe\">\n",
       "  <thead>\n",
       "    <tr style=\"text-align: right;\">\n",
       "      <th></th>\n",
       "      <th>index</th>\n",
       "      <th>V101</th>\n",
       "      <th>lookupzip</th>\n",
       "      <th>StateName</th>\n",
       "      <th>StateAbb</th>\n",
       "      <th>Latitude</th>\n",
       "      <th>Longitude</th>\n",
       "      <th>countyfips</th>\n",
       "      <th>birthyr</th>\n",
       "      <th>gender</th>\n",
       "      <th>...</th>\n",
       "      <th>GunBackgroundChecks_16</th>\n",
       "      <th>ProhibitPublication_16</th>\n",
       "      <th>BanAssultWeapons_16</th>\n",
       "      <th>MakeCCPEasier_16</th>\n",
       "      <th>AlwaysAllowChoice_16</th>\n",
       "      <th>RapeIncestorHealth_16</th>\n",
       "      <th>ProhibitMoreThan20Weeks_16</th>\n",
       "      <th>Employersdeclinebenefits_16</th>\n",
       "      <th>ProhibitFedFunds_16</th>\n",
       "      <th>GayMarriage</th>\n",
       "    </tr>\n",
       "  </thead>\n",
       "  <tbody>\n",
       "    <tr>\n",
       "      <th>0</th>\n",
       "      <td>0</td>\n",
       "      <td>222168628</td>\n",
       "      <td>3442</td>\n",
       "      <td>New Hampshire</td>\n",
       "      <td>NH</td>\n",
       "      <td>44.001231</td>\n",
       "      <td>-71.579923</td>\n",
       "      <td>33011.0</td>\n",
       "      <td>1969</td>\n",
       "      <td>female</td>\n",
       "      <td>...</td>\n",
       "      <td>Support</td>\n",
       "      <td>Oppose</td>\n",
       "      <td>Oppose</td>\n",
       "      <td>Oppose</td>\n",
       "      <td>Support</td>\n",
       "      <td>Oppose</td>\n",
       "      <td>Support</td>\n",
       "      <td>Oppose</td>\n",
       "      <td>Oppose</td>\n",
       "      <td>Support</td>\n",
       "    </tr>\n",
       "    <tr>\n",
       "      <th>1</th>\n",
       "      <td>1</td>\n",
       "      <td>301400441</td>\n",
       "      <td>3303</td>\n",
       "      <td>New Hampshire</td>\n",
       "      <td>NH</td>\n",
       "      <td>44.001231</td>\n",
       "      <td>-71.579923</td>\n",
       "      <td>33013.0</td>\n",
       "      <td>1948</td>\n",
       "      <td>female</td>\n",
       "      <td>...</td>\n",
       "      <td>Support</td>\n",
       "      <td>Oppose</td>\n",
       "      <td>Support</td>\n",
       "      <td>Oppose</td>\n",
       "      <td>Support</td>\n",
       "      <td>Oppose</td>\n",
       "      <td>Oppose</td>\n",
       "      <td>Oppose</td>\n",
       "      <td>Oppose</td>\n",
       "      <td>Support</td>\n",
       "    </tr>\n",
       "  </tbody>\n",
       "</table>\n",
       "<p>2 rows × 21 columns</p>\n",
       "</div>"
      ],
      "text/plain": [
       "   index       V101  lookupzip      StateName StateAbb   Latitude  Longitude  \\\n",
       "0      0  222168628       3442  New Hampshire       NH  44.001231 -71.579923   \n",
       "1      1  301400441       3303  New Hampshire       NH  44.001231 -71.579923   \n",
       "\n",
       "   countyfips  birthyr  gender     ...     GunBackgroundChecks_16  \\\n",
       "0     33011.0     1969  female     ...                    Support   \n",
       "1     33013.0     1948  female     ...                    Support   \n",
       "\n",
       "  ProhibitPublication_16 BanAssultWeapons_16 MakeCCPEasier_16  \\\n",
       "0                 Oppose              Oppose           Oppose   \n",
       "1                 Oppose             Support           Oppose   \n",
       "\n",
       "  AlwaysAllowChoice_16 RapeIncestorHealth_16 ProhibitMoreThan20Weeks_16  \\\n",
       "0              Support                Oppose                    Support   \n",
       "1              Support                Oppose                     Oppose   \n",
       "\n",
       "  Employersdeclinebenefits_16 ProhibitFedFunds_16 GayMarriage  \n",
       "0                      Oppose              Oppose     Support  \n",
       "1                      Oppose              Oppose     Support  \n",
       "\n",
       "[2 rows x 21 columns]"
      ]
     },
     "execution_count": 14,
     "metadata": {},
     "output_type": "execute_result"
    }
   ],
   "source": [
    "df = pd.read_sql_query(stmt, session.bind)\n",
    "df.head(2)"
   ]
  },
  {
   "cell_type": "code",
   "execution_count": 15,
   "metadata": {},
   "outputs": [
    {
     "name": "stdout",
     "output_type": "stream",
     "text": [
      "['GunBackgroundChecks_16', 'ProhibitPublication_16', 'BanAssultWeapons_16', 'MakeCCPEasier_16', 'AlwaysAllowChoice_16', 'RapeIncestorHealth_16', 'ProhibitMoreThan20Weeks_16', 'Employersdeclinebenefits_16', 'ProhibitFedFunds_16', 'GayMarriage']\n"
     ]
    }
   ],
   "source": [
    "print(list(df.columns)[11:])"
   ]
  },
  {
   "cell_type": "code",
   "execution_count": 21,
   "metadata": {},
   "outputs": [
    {
     "data": {
      "text/plain": [
       "sqlalchemy.sql.annotation.AnnotatedSelect"
      ]
     },
     "execution_count": 21,
     "metadata": {},
     "output_type": "execute_result"
    }
   ],
   "source": [
    "type(stmt)\n",
    "\n"
   ]
  },
  {
   "cell_type": "markdown",
   "metadata": {},
   "source": [
    "# List of dropdown variables"
   ]
  },
  {
   "cell_type": "code",
   "execution_count": null,
   "metadata": {},
   "outputs": [],
   "source": [
    "#############################################\n",
    "# Dropdown Variables mapped to Sql...\n",
    "#############################################\n",
    "\n",
    "# Gun Questions\n",
    "GunBackgroundChecks_16 = CCES.GunBackgroundChecks_16\n",
    "ProhibitPublication_16 = CCES.ProhibitPublication_16\n",
    "BanAssultWeapons_16 = CCES.BanAssultWeapons_16\n",
    "MakeCCPEasier_16 = CCES.MakeCCPEasier_16\n",
    "\n",
    "# Abortion Questions\n",
    "AlwaysAllowChoice_16 = CCES.AlwaysAllowChoice_16\n",
    "RapeIncestorHealth_16 = CCES.RapeIncestorHealth_16\n",
    "ProhibitMoreThan20Weeks_16 = CCES.ProhibitMoreThan20Weeks_16\n",
    "Employersdeclinebenefits_16 = CCES.Employersdeclinebenefits_16\n",
    "ProhibitFedFunds_16 = CCES.ProhibitFedFunds_16\n",
    "\n",
    "# Gay Marriage Question\n",
    "GayMarriage = CCES.GayMarriage\n",
    "#############################################"
   ]
  },
  {
   "cell_type": "markdown",
   "metadata": {},
   "source": [
    "# Flask Route - metadata totals testing"
   ]
  },
  {
   "cell_type": "code",
   "execution_count": null,
   "metadata": {},
   "outputs": [],
   "source": [
    "#############################################\n",
    "# Creating metadata totals function for metadata totals flask route\n",
    "#############################################"
   ]
  },
  {
   "cell_type": "code",
   "execution_count": null,
   "metadata": {},
   "outputs": [],
   "source": [
    "#############################################\n",
    "# Function to return Totals - Total Support and Total Oppose for each issue\n",
    "#############################################\n",
    "def sample_metadatatotals(sample):\n",
    "    \"\"\"Return the totals for a given sample\"\"\"\n",
    "    TotalResults = []\n",
    "    \n",
    "    Approve = {}\n",
    "    Oppose = {}\n",
    "    \n",
    "    ApproveTemp = session.query(sample).filter(sample == 'Support').count()\n",
    "    Approve['Approve'] = ApproveTemp\n",
    "    TotalResults.append(Approve)\n",
    "    \n",
    "    OpposeTemp = session.query(sample).filter(sample == 'Oppose').count()\n",
    "    Oppose['Oppose'] = OpposeTemp\n",
    "    TotalResults.append(Oppose)\n",
    "\n",
    "    print(TotalResults)\n",
    "#     return jsonify(TotalResults)"
   ]
  },
  {
   "cell_type": "code",
   "execution_count": null,
   "metadata": {},
   "outputs": [],
   "source": [
    "#############################################\n",
    "# Metadatatotals Function Testing 1\n",
    "\n",
    "sample_metadatatotals(GayMarriage)"
   ]
  },
  {
   "cell_type": "code",
   "execution_count": null,
   "metadata": {},
   "outputs": [],
   "source": [
    "#############################################\n",
    "# Metadatatotals Function Testing 2\n",
    "\n",
    "sample_metadatatotals(CCES.GunBackgroundChecks_16)"
   ]
  },
  {
   "cell_type": "code",
   "execution_count": null,
   "metadata": {},
   "outputs": [],
   "source": [
    "#############################################\n",
    "# Metadatatotals Function - without function - direct query to verify results\n",
    "\n",
    "ApproveGay = session.query(CCES.GayMarriage).filter(CCES.GayMarriage == 'Support').count()\n",
    "OpposeGay = session.query(CCES).filter(CCES.GayMarriage == 'Oppose').count()\n",
    "print(f'Sqlite query of votes supporting Gay Marrige: {ApproveGay}')\n",
    "print(f'Sqlite query of votes opposint Gay Marriage: {OpposeGay}')"
   ]
  },
  {
   "cell_type": "markdown",
   "metadata": {},
   "source": [
    "# Flask Route - Metadata States Groupby Results"
   ]
  },
  {
   "cell_type": "code",
   "execution_count": null,
   "metadata": {},
   "outputs": [],
   "source": [
    "#############################################\n",
    "# Metadata States Groupby Function\n",
    "#############################################\n",
    "\n",
    "def Metadata_States(sample):\n",
    "    \n",
    "    # Query to create two lists of tuples (state, number)\n",
    "    StatesFor = session.query(CCES.StateName, func.count(sample)).\\\n",
    "                filter(sample == 'Support').\\\n",
    "                group_by(CCES.StateName).all()\n",
    "    StatesNot = session.query(CCES.StateName, func.count(sample)).\\\n",
    "                filter(sample == 'Oppose').\\\n",
    "                group_by(CCES.StateName).all()\n",
    "\n",
    "    # List that will hold final dictionaries - to be jsonified\n",
    "    States_Results = []\n",
    "    \n",
    "    for i, j in zip(StatesFor, StatesNot):\n",
    "\n",
    "        tempfile = {}\n",
    "        tempfile['State'] = i[0]\n",
    "        tempfile['Support'] = i[1]\n",
    "        tempfile['Oppose'] = j[1]\n",
    "        if i[1] > j[1]:\n",
    "            tempoverall = 'Support'\n",
    "        else:\n",
    "            tempoverall = 'Oppose'\n",
    "        tempfile['Overall'] = tempoverall\n",
    "\n",
    "        States_Results.append(tempfile)\n",
    "\n",
    "    return States_Results\n",
    "    \n",
    "            "
   ]
  },
  {
   "cell_type": "code",
   "execution_count": null,
   "metadata": {},
   "outputs": [],
   "source": [
    "#############################################\n",
    "# Metadata States Function Testing 1\n",
    "\n",
    "Metadata_States(GunBackgroundChecks_16)"
   ]
  },
  {
   "cell_type": "code",
   "execution_count": null,
   "metadata": {},
   "outputs": [],
   "source": [
    "#############################################\n",
    "# Filter by state how many respondents were supportive of Gun Background Checks\n",
    "#############################################\n",
    "\n",
    "StatesFor = session.query(CCES.StateName, func.count(CCES.GunBackgroundChecks_16)).filter(CCES.GunBackgroundChecks_16 == 'Support').group_by(CCES.StateName).all()\n",
    "StatesNot = session.query(CCES.StateName, func.count(CCES.GunBackgroundChecks_16)).filter(CCES.GunBackgroundChecks_16 == 'Oppose').group_by(CCES.StateName).all()\n",
    "print(StatesFor[0:5])\n",
    "print(StatesNot[0:5])"
   ]
  },
  {
   "cell_type": "code",
   "execution_count": null,
   "metadata": {},
   "outputs": [],
   "source": [
    "#############################################\n",
    "# Groupby Function testing before building function\n",
    "#############################################\n",
    "StatesForAbortion = session.query(CCES.StateName, func.count(CCES.AlwaysAllowChoice_16)).filter(CCES.AlwaysAllowChoice_16 == 'Support').group_by(CCES.StateName).all()\n",
    "StatesNotAbortion = session.query(CCES.StateName, func.count(CCES.AlwaysAllowChoice_16)).filter(CCES.AlwaysAllowChoice_16 == 'Oppose').group_by(CCES.StateName).all()\n",
    "\n",
    "ThirdTry = []\n",
    "\n",
    "for i, j in zip(StatesForAbortion, StatesNotAbortion):\n",
    "\n",
    "    tempfile = {}\n",
    "    tempfile['State'] = i[0]\n",
    "    tempfile['Support'] = i[1]\n",
    "    tempfile['Oppose'] = j[1]\n",
    "    if i[1] > j[1]:\n",
    "        tempoverall = 'Support'\n",
    "    else:\n",
    "        tempoverall = 'Oppose'\n",
    "    tempfile['Overall'] = tempoverall\n",
    "        \n",
    "    ThirdTry.append(tempfile)\n",
    "ThirdTry"
   ]
  },
  {
   "cell_type": "code",
   "execution_count": null,
   "metadata": {},
   "outputs": [],
   "source": [
    "#############################################\n",
    "# Testing Groupby by specific state\n",
    "# Filter by state how many respondents were supportive of Gun Background Checks\n",
    "#############################################\n",
    "AlabamaTotalExample = session.query(CCES.StateName, CCES.GayMarriage).filter(CCES.StateName == 'California').count()\n",
    "AlabamaForExample = session.query(CCES.StateName, CCES.GayMarriage).filter(CCES.StateName == 'California').filter(CCES.GayMarriage == 'Support').count()\n",
    "AlabamaAgainstExample = session.query(CCES.StateName, CCES.GayMarriage).filter(CCES.StateName == 'California').filter(CCES.GayMarriage == 'Oppose').count()\n",
    "print(AlabamaTotalExample)\n",
    "print(AlabamaForExample)\n",
    "print(AlabamaAgainstExample)"
   ]
  },
  {
   "cell_type": "code",
   "execution_count": null,
   "metadata": {},
   "outputs": [],
   "source": []
  }
 ],
 "metadata": {
  "kernelspec": {
   "display_name": "Python [conda env:PythonData]",
   "language": "python",
   "name": "conda-env-PythonData-py"
  },
  "language_info": {
   "codemirror_mode": {
    "name": "ipython",
    "version": 3
   },
   "file_extension": ".py",
   "mimetype": "text/x-python",
   "name": "python",
   "nbconvert_exporter": "python",
   "pygments_lexer": "ipython3",
   "version": "3.6.5"
  }
 },
 "nbformat": 4,
 "nbformat_minor": 2
}
