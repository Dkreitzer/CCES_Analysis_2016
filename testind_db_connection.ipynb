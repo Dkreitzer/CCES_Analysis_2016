{
 "cells": [
  {
   "cell_type": "code",
   "execution_count": 47,
   "metadata": {},
   "outputs": [],
   "source": [
    "### Reflecting DB\n",
    "import sqlalchemy\n",
    "from sqlalchemy.ext.automap import automap_base\n",
    "from sqlalchemy.orm import Session\n",
    "from sqlalchemy import create_engine\n",
    "from sqlalchemy import Column, Integer, String, Float\n",
    "from sqlalchemy.ext.declarative import declarative_base\n",
    "from sqlalchemy import func\n",
    "Base = declarative_base()\n"
   ]
  },
  {
   "cell_type": "code",
   "execution_count": 48,
   "metadata": {},
   "outputs": [],
   "source": [
    "# Create the engine to connect to a sqlite file.\n",
    "# The file will not be created until the class, base, and metadata are executed\n",
    "\n",
    "engine = create_engine(\"sqlite:///db/CCES_Ver50.sqlite\")\n",
    "\n",
    "# Create a variable to manage session.queries later on...\n",
    "session = Session(engine)"
   ]
  },
  {
   "cell_type": "code",
   "execution_count": 49,
   "metadata": {},
   "outputs": [
    {
     "data": {
      "text/plain": [
       "sqlalchemy.ext.automap.Base"
      ]
     },
     "execution_count": 49,
     "metadata": {},
     "output_type": "execute_result"
    }
   ],
   "source": [
    "# Declare a base using automap_base()\n",
    "Base = automap_base()\n",
    "Base"
   ]
  },
  {
   "cell_type": "code",
   "execution_count": 50,
   "metadata": {},
   "outputs": [],
   "source": [
    "# Use the base class to reflect the database tables\n",
    "Base.prepare(engine, reflect=True)"
   ]
  },
  {
   "cell_type": "code",
   "execution_count": 51,
   "metadata": {},
   "outputs": [
    {
     "data": {
      "text/plain": [
       "['CCES_16']"
      ]
     },
     "execution_count": 51,
     "metadata": {},
     "output_type": "execute_result"
    }
   ],
   "source": [
    "# Print all of the classses mapped to the Base (this provides a list of the table names in the sqlite.db)\n",
    "Base.classes.keys()"
   ]
  },
  {
   "cell_type": "code",
   "execution_count": 52,
   "metadata": {},
   "outputs": [],
   "source": [
    "# Assign the CCES_16 class to a variable called 'CCES'\n",
    "CCES = Base.classes.CCES_16"
   ]
  },
  {
   "cell_type": "code",
   "execution_count": 53,
   "metadata": {},
   "outputs": [],
   "source": [
    "session = Session(engine)"
   ]
  },
  {
   "cell_type": "code",
   "execution_count": 54,
   "metadata": {},
   "outputs": [],
   "source": [
    "#############################################\n",
    "# Dropdown Variables mapped to Sql...\n",
    "#############################################\n",
    "\n",
    "# Gun Questions\n",
    "GunBackgroundChecks_16 = CCES.GunBackgroundChecks_16\n",
    "ProhibitPublication_16 = CCES.ProhibitPublication_16\n",
    "BanAssultWeapons_16 = CCES.BanAssultWeapons_16\n",
    "MakeCCPEasier_16 = CCES.MakeCCPEasier_16\n",
    "\n",
    "# Abortion Questions\n",
    "AlwaysAllowChoice_16 = CCES.AlwaysAllowChoice_16\n",
    "RapeIncestorHealth_16 = CCES.RapeIncestorHealth_16\n",
    "ProhibitMoreThan20Weeks_16 = CCES.ProhibitMoreThan20Weeks_16\n",
    "Employersdeclinebenefits_16 = CCES.Employersdeclinebenefits_16\n",
    "ProhibitFedFunds_16 = CCES.ProhibitFedFunds_16\n",
    "\n",
    "# Gay Marriage Question\n",
    "GayMarriage = CCES.GayMarriage\n",
    "#############################################"
   ]
  },
  {
   "cell_type": "markdown",
   "metadata": {},
   "source": [
    "# Flask Route - metadata totals testing"
   ]
  },
  {
   "cell_type": "code",
   "execution_count": 55,
   "metadata": {},
   "outputs": [],
   "source": [
    "#############################################\n",
    "# Creating metadata totals function for metadata totals flask route\n",
    "#############################################"
   ]
  },
  {
   "cell_type": "code",
   "execution_count": 75,
   "metadata": {},
   "outputs": [],
   "source": [
    "#############################################\n",
    "# Function to return Totals - Total Support and Total Oppose for each issue\n",
    "#############################################\n",
    "def sample_metadatatotals(sample):\n",
    "    \"\"\"Return the totals for a given sample\"\"\"\n",
    "    TotalResults = {}\n",
    "    \n",
    "    Approve = {}\n",
    "    Oppose = {}\n",
    "    \n",
    "    ApproveTemp = session.query(sample).filter(sample == 'Support').count()\n",
    "    TotalResults['Approve'] = ApproveTemp\n",
    "#     TotalResults.append(Approve)\n",
    "#     TotalResults['Approve'] = Approve\n",
    "    \n",
    "    OpposeTemp = session.query(sample).filter(sample == 'Oppose').count()\n",
    "    TotalResults['Oppose'] = OpposeTemp\n",
    "#     TotalResults.append(Oppose)\n",
    "#     TotalResults['Oppose'] = Oppose\n",
    "    print(TotalResults)\n",
    "#     return jsonify(TotalResults)"
   ]
  },
  {
   "cell_type": "code",
   "execution_count": 76,
   "metadata": {},
   "outputs": [
    {
     "name": "stdout",
     "output_type": "stream",
     "text": [
      "{'Approve': 40955, 'Oppose': 21926}\n"
     ]
    }
   ],
   "source": [
    "#############################################\n",
    "# Metadatatotals Function Testing 1\n",
    "\n",
    "sample_metadatatotals(GayMarriage)"
   ]
  },
  {
   "cell_type": "code",
   "execution_count": 77,
   "metadata": {},
   "outputs": [
    {
     "name": "stdout",
     "output_type": "stream",
     "text": [
      "{'Approve': 56810, 'Oppose': 6071}\n"
     ]
    }
   ],
   "source": [
    "#############################################\n",
    "# Metadatatotals Function Testing 2\n",
    "\n",
    "sample_metadatatotals(CCES.GunBackgroundChecks_16)"
   ]
  },
  {
   "cell_type": "code",
   "execution_count": 54,
   "metadata": {},
   "outputs": [
    {
     "name": "stdout",
     "output_type": "stream",
     "text": [
      "Sqlite query of votes supporting Gay Marrige: 40955\n",
      "Sqlite query of votes opposint Gay Marriage: 21926\n"
     ]
    }
   ],
   "source": [
    "#############################################\n",
    "# Metadatatotals Function - without function - direct query to verify results\n",
    "\n",
    "ApproveGay = session.query(CCES).filter(CCES.GayMarriage == 'Support').count()\n",
    "OpposeGay = session.query(CCES).filter(CCES.GayMarriage == 'Oppose').count()\n",
    "print(f'Sqlite query of votes supporting Gay Marrige: {ApproveGay}')\n",
    "print(f'Sqlite query of votes opposint Gay Marriage: {OpposeGay}')"
   ]
  },
  {
   "cell_type": "markdown",
   "metadata": {},
   "source": [
    "# Flask Route - Metadata States Groupby Results"
   ]
  },
  {
   "cell_type": "code",
   "execution_count": 42,
   "metadata": {},
   "outputs": [],
   "source": [
    "#############################################\n",
    "# Metadata States Groupby Function - Return List of Dictionaries\n",
    "#############################################\n",
    "\n",
    "def Metadata_States(sample):\n",
    "    \n",
    "    # Query to create two lists of tuples (state, number)\n",
    "    StatesFor = session.query(CCES.StateName, func.count(sample)).\\\n",
    "                filter(sample == 'Support').\\\n",
    "                group_by(CCES.StateName).all()\n",
    "    StatesNot = session.query(CCES.StateName, func.count(sample)).\\\n",
    "                filter(sample == 'Oppose').\\\n",
    "                group_by(CCES.StateName).all()\n",
    "\n",
    "    # List that will hold final dictionaries - to be jsonified\n",
    "    States_Results = []\n",
    "    \n",
    "    for i, j in zip(StatesFor, StatesNot):\n",
    "\n",
    "        tempfile = {}\n",
    "        tempfile['State'] = i[0]\n",
    "        tempfile['Support'] = i[1]\n",
    "        tempfile['Oppose'] = j[1]\n",
    "        if i[1] > j[1]:\n",
    "            tempoverall = 'Support'\n",
    "        else:\n",
    "            tempoverall = 'Oppose'\n",
    "        tempfile['Overall'] = tempoverall\n",
    "\n",
    "        States_Results.append(tempfile)\n",
    "\n",
    "    return States_Results\n",
    "    \n",
    "            "
   ]
  },
  {
   "cell_type": "code",
   "execution_count": 67,
   "metadata": {},
   "outputs": [],
   "source": [
    "#############################################\n",
    "# Metadata States Groupby Function - Return Dictionary Form\n",
    "#############################################\n",
    "\n",
    "def Metadata_States(sample):\n",
    "    \n",
    "    # Query to create two lists of tuples (state, number)\n",
    "    StatesFor = session.query(CCES.StateName, func.count(sample)).\\\n",
    "                filter(sample == 'Support').\\\n",
    "                group_by(CCES.StateName).all()\n",
    "    StatesNot = session.query(CCES.StateName, func.count(sample)).\\\n",
    "                filter(sample == 'Oppose').\\\n",
    "                group_by(CCES.StateName).all()\n",
    "\n",
    "    # List that will hold final dictionaries - to be jsonified\n",
    "    States_Results = {}\n",
    "    \n",
    "    for i, j in zip(StatesFor, StatesNot):\n",
    "\n",
    "        tempfile = {}\n",
    "        tempfile['State'] = i[0]\n",
    "        tempfile['Support'] = i[1]\n",
    "        tempfile['Oppose'] = j[1]\n",
    "        if i[1] > j[1]:\n",
    "            tempoverall = 'Support'\n",
    "        else:\n",
    "            tempoverall = 'Oppose'\n",
    "        tempfile['Overall'] = tempoverall\n",
    "\n",
    "#         States_Results.append(tempfile)\n",
    "        States_Results[i[0]] = tempfile\n",
    "    return States_Results\n",
    "    "
   ]
  },
  {
   "cell_type": "code",
   "execution_count": 68,
   "metadata": {},
   "outputs": [
    {
     "data": {
      "text/plain": [
       "{'Alabama': {'State': 'Alabama',\n",
       "  'Support': 676,\n",
       "  'Oppose': 88,\n",
       "  'Overall': 'Support'},\n",
       " 'Alaska': {'State': 'Alaska',\n",
       "  'Support': 85,\n",
       "  'Oppose': 24,\n",
       "  'Overall': 'Support'},\n",
       " 'Arizona': {'State': 'Arizona',\n",
       "  'Support': 1265,\n",
       "  'Oppose': 200,\n",
       "  'Overall': 'Support'},\n",
       " 'Arkansas': {'State': 'Arkansas',\n",
       "  'Support': 465,\n",
       "  'Oppose': 60,\n",
       "  'Overall': 'Support'},\n",
       " 'California': {'State': 'California',\n",
       "  'Support': 5367,\n",
       "  'Oppose': 493,\n",
       "  'Overall': 'Support'},\n",
       " 'Colorado': {'State': 'Colorado',\n",
       "  'Support': 863,\n",
       "  'Oppose': 121,\n",
       "  'Overall': 'Support'},\n",
       " 'Connecticut': {'State': 'Connecticut',\n",
       "  'Support': 660,\n",
       "  'Oppose': 50,\n",
       "  'Overall': 'Support'},\n",
       " 'Delaware': {'State': 'Delaware',\n",
       "  'Support': 243,\n",
       "  'Oppose': 18,\n",
       "  'Overall': 'Support'},\n",
       " 'District of Columbia': {'State': 'District of Columbia',\n",
       "  'Support': 171,\n",
       "  'Oppose': 15,\n",
       "  'Overall': 'Support'},\n",
       " 'Florida': {'State': 'Florida',\n",
       "  'Support': 4440,\n",
       "  'Oppose': 415,\n",
       "  'Overall': 'Support'},\n",
       " 'Georgia': {'State': 'Georgia',\n",
       "  'Support': 1804,\n",
       "  'Oppose': 196,\n",
       "  'Overall': 'Support'},\n",
       " 'Hawaii': {'State': 'Hawaii',\n",
       "  'Support': 182,\n",
       "  'Oppose': 10,\n",
       "  'Overall': 'Support'},\n",
       " 'Idaho': {'State': 'Idaho',\n",
       "  'Support': 254,\n",
       "  'Oppose': 63,\n",
       "  'Overall': 'Support'},\n",
       " 'Illinois': {'State': 'Illinois',\n",
       "  'Support': 2379,\n",
       "  'Oppose': 190,\n",
       "  'Overall': 'Support'},\n",
       " 'Indiana': {'State': 'Indiana',\n",
       "  'Support': 1259,\n",
       "  'Oppose': 109,\n",
       "  'Overall': 'Support'},\n",
       " 'Iowa': {'State': 'Iowa', 'Support': 608, 'Oppose': 61, 'Overall': 'Support'},\n",
       " 'Kansas': {'State': 'Kansas',\n",
       "  'Support': 472,\n",
       "  'Oppose': 58,\n",
       "  'Overall': 'Support'},\n",
       " 'Kentucky': {'State': 'Kentucky',\n",
       "  'Support': 809,\n",
       "  'Oppose': 100,\n",
       "  'Overall': 'Support'},\n",
       " 'Louisiana': {'State': 'Louisiana',\n",
       "  'Support': 604,\n",
       "  'Oppose': 72,\n",
       "  'Overall': 'Support'},\n",
       " 'Maine': {'State': 'Maine',\n",
       "  'Support': 232,\n",
       "  'Oppose': 92,\n",
       "  'Overall': 'Support'},\n",
       " 'Maryland': {'State': 'Maryland',\n",
       "  'Support': 1089,\n",
       "  'Oppose': 78,\n",
       "  'Overall': 'Support'},\n",
       " 'Massachusetts': {'State': 'Massachusetts',\n",
       "  'Support': 1315,\n",
       "  'Oppose': 87,\n",
       "  'Overall': 'Support'},\n",
       " 'Michigan': {'State': 'Michigan',\n",
       "  'Support': 1902,\n",
       "  'Oppose': 170,\n",
       "  'Overall': 'Support'},\n",
       " 'Minnesota': {'State': 'Minnesota',\n",
       "  'Support': 934,\n",
       "  'Oppose': 120,\n",
       "  'Overall': 'Support'},\n",
       " 'Mississippi': {'State': 'Mississippi',\n",
       "  'Support': 358,\n",
       "  'Oppose': 41,\n",
       "  'Overall': 'Support'},\n",
       " 'Missouri': {'State': 'Missouri',\n",
       "  'Support': 1124,\n",
       "  'Oppose': 146,\n",
       "  'Overall': 'Support'},\n",
       " 'Montana': {'State': 'Montana',\n",
       "  'Support': 131,\n",
       "  'Oppose': 56,\n",
       "  'Overall': 'Support'},\n",
       " 'Nebraska': {'State': 'Nebraska',\n",
       "  'Support': 326,\n",
       "  'Oppose': 36,\n",
       "  'Overall': 'Support'},\n",
       " 'Nevada': {'State': 'Nevada',\n",
       "  'Support': 559,\n",
       "  'Oppose': 127,\n",
       "  'Overall': 'Support'},\n",
       " 'New Hampshire': {'State': 'New Hampshire',\n",
       "  'Support': 333,\n",
       "  'Oppose': 32,\n",
       "  'Overall': 'Support'},\n",
       " 'New Jersey': {'State': 'New Jersey',\n",
       "  'Support': 1685,\n",
       "  'Oppose': 99,\n",
       "  'Overall': 'Support'},\n",
       " 'New Mexico': {'State': 'New Mexico',\n",
       "  'Support': 326,\n",
       "  'Oppose': 48,\n",
       "  'Overall': 'Support'},\n",
       " 'New York': {'State': 'New York',\n",
       "  'Support': 3922,\n",
       "  'Oppose': 280,\n",
       "  'Overall': 'Support'},\n",
       " 'North Carolina': {'State': 'North Carolina',\n",
       "  'Support': 1754,\n",
       "  'Oppose': 200,\n",
       "  'Overall': 'Support'},\n",
       " 'North Dakota': {'State': 'North Dakota',\n",
       "  'Support': 109,\n",
       "  'Oppose': 14,\n",
       "  'Overall': 'Support'},\n",
       " 'Ohio': {'State': 'Ohio',\n",
       "  'Support': 2370,\n",
       "  'Oppose': 270,\n",
       "  'Overall': 'Support'},\n",
       " 'Oklahoma': {'State': 'Oklahoma',\n",
       "  'Support': 528,\n",
       "  'Oppose': 78,\n",
       "  'Overall': 'Support'},\n",
       " 'Oregon': {'State': 'Oregon',\n",
       "  'Support': 856,\n",
       "  'Oppose': 125,\n",
       "  'Overall': 'Support'},\n",
       " 'Pennsylvania': {'State': 'Pennsylvania',\n",
       "  'Support': 3195,\n",
       "  'Oppose': 244,\n",
       "  'Overall': 'Support'},\n",
       " 'Rhode Island': {'State': 'Rhode Island',\n",
       "  'Support': 196,\n",
       "  'Oppose': 11,\n",
       "  'Overall': 'Support'},\n",
       " 'South Carolina': {'State': 'South Carolina',\n",
       "  'Support': 761,\n",
       "  'Oppose': 75,\n",
       "  'Overall': 'Support'},\n",
       " 'South Dakota': {'State': 'South Dakota',\n",
       "  'Support': 137,\n",
       "  'Oppose': 25,\n",
       "  'Overall': 'Support'},\n",
       " 'Tennessee': {'State': 'Tennessee',\n",
       "  'Support': 1059,\n",
       "  'Oppose': 126,\n",
       "  'Overall': 'Support'},\n",
       " 'Texas': {'State': 'Texas',\n",
       "  'Support': 3839,\n",
       "  'Oppose': 483,\n",
       "  'Overall': 'Support'},\n",
       " 'Utah': {'State': 'Utah', 'Support': 432, 'Oppose': 75, 'Overall': 'Support'},\n",
       " 'Vermont': {'State': 'Vermont',\n",
       "  'Support': 110,\n",
       "  'Oppose': 17,\n",
       "  'Overall': 'Support'},\n",
       " 'Virginia': {'State': 'Virginia',\n",
       "  'Support': 1758,\n",
       "  'Oppose': 193,\n",
       "  'Overall': 'Support'},\n",
       " 'Washington': {'State': 'Washington',\n",
       "  'Support': 1237,\n",
       "  'Oppose': 169,\n",
       "  'Overall': 'Support'},\n",
       " 'West Virginia': {'State': 'West Virginia',\n",
       "  'Support': 364,\n",
       "  'Oppose': 55,\n",
       "  'Overall': 'Support'},\n",
       " 'Wisconsin': {'State': 'Wisconsin',\n",
       "  'Support': 1181,\n",
       "  'Oppose': 140,\n",
       "  'Overall': 'Support'},\n",
       " 'Wyoming': {'State': 'Wyoming',\n",
       "  'Support': 82,\n",
       "  'Oppose': 16,\n",
       "  'Overall': 'Support'}}"
      ]
     },
     "execution_count": 68,
     "metadata": {},
     "output_type": "execute_result"
    }
   ],
   "source": [
    "#############################################\n",
    "# Metadata States Function Testing 1\n",
    "\n",
    "Metadata_States(GunBackgroundChecks_16)"
   ]
  },
  {
   "cell_type": "code",
   "execution_count": 91,
   "metadata": {},
   "outputs": [
    {
     "name": "stdout",
     "output_type": "stream",
     "text": [
      "[('Alabama', 676), ('Alaska', 85), ('Arizona', 1265), ('Arkansas', 465), ('California', 5367)]\n",
      "[('Alabama', 88), ('Alaska', 24), ('Arizona', 200), ('Arkansas', 60), ('California', 493)]\n"
     ]
    }
   ],
   "source": [
    "#############################################\n",
    "# Filter by state how many respondents were supportive of Gun Background Checks\n",
    "#############################################\n",
    "\n",
    "StatesFor = session.query(CCES.StateName, func.count(CCES.GunBackgroundChecks_16)).filter(CCES.GunBackgroundChecks_16 == 'Support').group_by(CCES.StateName).all()\n",
    "StatesNot = session.query(CCES.StateName, func.count(CCES.GunBackgroundChecks_16)).filter(CCES.GunBackgroundChecks_16 == 'Oppose').group_by(CCES.StateName).all()\n",
    "print(StatesFor[0:5])\n",
    "print(StatesNot[0:5])"
   ]
  },
  {
   "cell_type": "code",
   "execution_count": 36,
   "metadata": {},
   "outputs": [],
   "source": [
    "#############################################\n",
    "# Groupby Function testing before building function\n",
    "#############################################\n",
    "StatesForAbortion = session.query(CCES.StateName, func.count(CCES.AlwaysAllowChoice_16)).filter(CCES.AlwaysAllowChoice_16 == 'Support').group_by(CCES.StateName).all()\n",
    "StatesNotAbortion = session.query(CCES.StateName, func.count(CCES.AlwaysAllowChoice_16)).filter(CCES.AlwaysAllowChoice_16 == 'Oppose').group_by(CCES.StateName).all()\n",
    "\n",
    "ThirdTry = []\n",
    "\n",
    "for i, j in zip(StatesForAbortion, StatesNotAbortion):\n",
    "\n",
    "    tempfile = {}\n",
    "    tempfile['State'] = i[0]\n",
    "    tempfile['Support'] = i[1]\n",
    "    tempfile['Oppose'] = j[1]\n",
    "    if i[1] > j[1]:\n",
    "        tempoverall = 'Support'\n",
    "    else:\n",
    "        tempoverall = 'Oppose'\n",
    "    tempfile['Overall'] = tempoverall\n",
    "        \n",
    "    ThirdTry.append(tempfile)\n",
    "ThirdTry"
   ]
  },
  {
   "cell_type": "code",
   "execution_count": null,
   "metadata": {},
   "outputs": [],
   "source": [
    "#############################################\n",
    "# Testing Groupby by specific state\n",
    "# Filter by state how many respondents were supportive of Gun Background Checks\n",
    "#############################################\n",
    "AlabamaTotalExample = session.query(CCES.StateName, CCES.GayMarriage).filter(CCES.StateName == 'California').count()\n",
    "AlabamaForExample = session.query(CCES.StateName, CCES.GayMarriage).filter(CCES.StateName == 'California').filter(CCES.GayMarriage == 'Support').count()\n",
    "AlabamaAgainstExample = session.query(CCES.StateName, CCES.GayMarriage).filter(CCES.StateName == 'California').filter(CCES.GayMarriage == 'Oppose').count()\n",
    "print(AlabamaTotalExample)\n",
    "print(AlabamaForExample)\n",
    "print(AlabamaAgainstExample)"
   ]
  }
 ],
 "metadata": {
  "kernelspec": {
   "display_name": "Python [conda env:PythonData]",
   "language": "python",
   "name": "conda-env-PythonData-py"
  },
  "language_info": {
   "codemirror_mode": {
    "name": "ipython",
    "version": 3
   },
   "file_extension": ".py",
   "mimetype": "text/x-python",
   "name": "python",
   "nbconvert_exporter": "python",
   "pygments_lexer": "ipython3",
   "version": "3.6.5"
  }
 },
 "nbformat": 4,
 "nbformat_minor": 2
}
